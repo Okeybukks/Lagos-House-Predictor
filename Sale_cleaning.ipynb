{
 "cells": [
  {
   "cell_type": "code",
   "execution_count": 37,
   "metadata": {},
   "outputs": [
    {
     "name": "stdout",
     "output_type": "stream",
     "text": [
      "Populating the interactive namespace from numpy and matplotlib\n"
     ]
    }
   ],
   "source": [
    "#Import important Libraries\n",
    "import numpy as np\n",
    "import pandas as pd\n",
    "%pylab inline\n",
    "import seaborn as sns\n",
    "import matplotlib.pyplot as plt\n",
    "import re\n",
    "# Importing Neccessary Libraries\n",
    "from feature_engine.categorical_encoders import OneHotCategoricalEncoder\n",
    "from sklearn.model_selection import train_test_split\n",
    "from sklearn.linear_model import LinearRegression\n",
    "from sklearn.ensemble import RandomForestRegressor\n",
    "from sklearn.svm import SVC\n",
    "import os\n",
    "from pandas.plotting import scatter_matrix"
   ]
  },
  {
   "cell_type": "code",
   "execution_count": 38,
   "metadata": {},
   "outputs": [],
   "source": [
    "path = os.getcwd()"
   ]
  },
  {
   "cell_type": "code",
   "execution_count": 39,
   "metadata": {},
   "outputs": [],
   "source": [
    "# Importing Dataset\n",
    "df_ajah_sale = pd.read_csv(path + '/Areas/ajah_sale_clean.csv')\n",
    "df_gbagada_sale = pd.read_csv(path + '/Areas/gbagada_sale_clean.csv')\n",
    "df_ikeja_sale = pd.read_csv(path + '/Areas/ikeja_sale_clean.csv')\n",
    "df_ikorodu_sale = pd.read_csv(path + '/Areas/ikorodu_sale_clean.csv')\n",
    "df_ikoyi_sale = pd.read_csv(path + '/Areas/ikoyi_sale_clean.csv')\n",
    "df_lekki_sale = pd.read_csv(path + '/Areas/lekki_sale_clean.csv')\n",
    "df_surulere_sale = pd.read_csv(path + '/Areas/surulere_sale_clean.csv')\n",
    "df_yaba_sale = pd.read_csv(path + '/Areas/yaba_sale_clean.csv')"
   ]
  },
  {
   "cell_type": "code",
   "execution_count": 40,
   "metadata": {},
   "outputs": [],
   "source": [
    "df_sale = pd.concat([df_ajah_sale, df_gbagada_sale, df_ikeja_sale, df_ikorodu_sale, df_ikoyi_sale, df_lekki_sale, df_surulere_sale, df_yaba_sale], join='outer', ignore_index=True)"
   ]
  },
  {
   "cell_type": "code",
   "execution_count": 41,
   "metadata": {},
   "outputs": [
    {
     "data": {
      "text/html": [
       "<div>\n",
       "<style scoped>\n",
       "    .dataframe tbody tr th:only-of-type {\n",
       "        vertical-align: middle;\n",
       "    }\n",
       "\n",
       "    .dataframe tbody tr th {\n",
       "        vertical-align: top;\n",
       "    }\n",
       "\n",
       "    .dataframe thead th {\n",
       "        text-align: right;\n",
       "    }\n",
       "</style>\n",
       "<table border=\"1\" class=\"dataframe\">\n",
       "  <thead>\n",
       "    <tr style=\"text-align: right;\">\n",
       "      <th></th>\n",
       "      <th>Property</th>\n",
       "      <th>Location</th>\n",
       "      <th>Description</th>\n",
       "      <th>Features</th>\n",
       "      <th>Price</th>\n",
       "      <th>Bed</th>\n",
       "      <th>Bath</th>\n",
       "      <th>Toilet</th>\n",
       "      <th>Built or Serviced</th>\n",
       "      <th>Property Type</th>\n",
       "      <th>Area</th>\n",
       "      <th>Purchase Type</th>\n",
       "      <th>Parking Space</th>\n",
       "      <th>Security</th>\n",
       "      <th>Electricity</th>\n",
       "      <th>Furnished</th>\n",
       "      <th>Security Doors</th>\n",
       "      <th>CCTV</th>\n",
       "    </tr>\n",
       "  </thead>\n",
       "  <tbody>\n",
       "    <tr>\n",
       "      <th>0</th>\n",
       "      <td>1 bedroom mini flat flat / apartment for sale</td>\n",
       "      <td>off general paints bus stop abraham adesanya e...</td>\n",
       "      <td>pacific manor ii is a residential estate with ...</td>\n",
       "      <td>1 bedrooms</td>\n",
       "      <td>17500000.0</td>\n",
       "      <td>1.0</td>\n",
       "      <td>1.0</td>\n",
       "      <td>2.0</td>\n",
       "      <td>NaN</td>\n",
       "      <td>Mini flat</td>\n",
       "      <td>ajah</td>\n",
       "      <td>sale</td>\n",
       "      <td>0</td>\n",
       "      <td>0</td>\n",
       "      <td>0</td>\n",
       "      <td>0</td>\n",
       "      <td>0</td>\n",
       "      <td>1</td>\n",
       "    </tr>\n",
       "    <tr>\n",
       "      <th>1</th>\n",
       "      <td>4 bedroom terraced duplex house for sale</td>\n",
       "      <td>ajahajah lagos</td>\n",
       "      <td>nicely buit 4 bedroom terrace duplex;\\n\\nlocat...</td>\n",
       "      <td>4 bedrooms\\nnew</td>\n",
       "      <td>33000000.0</td>\n",
       "      <td>4.0</td>\n",
       "      <td>4.0</td>\n",
       "      <td>5.0</td>\n",
       "      <td>Newly Built</td>\n",
       "      <td>Terraced duplex</td>\n",
       "      <td>ajah</td>\n",
       "      <td>sale</td>\n",
       "      <td>0</td>\n",
       "      <td>1</td>\n",
       "      <td>0</td>\n",
       "      <td>0</td>\n",
       "      <td>0</td>\n",
       "      <td>0</td>\n",
       "    </tr>\n",
       "    <tr>\n",
       "      <th>2</th>\n",
       "      <td>4 bedroom terraced duplex house for sale</td>\n",
       "      <td>ekki palm cityajah lagos</td>\n",
       "      <td>brand new 4 bedroom terrace duplex;\\n\\nlocatio...</td>\n",
       "      <td>4 bedrooms\\nnew</td>\n",
       "      <td>38000000.0</td>\n",
       "      <td>4.0</td>\n",
       "      <td>4.0</td>\n",
       "      <td>5.0</td>\n",
       "      <td>Newly Built</td>\n",
       "      <td>Terraced duplex</td>\n",
       "      <td>ajah</td>\n",
       "      <td>sale</td>\n",
       "      <td>0</td>\n",
       "      <td>1</td>\n",
       "      <td>0</td>\n",
       "      <td>0</td>\n",
       "      <td>0</td>\n",
       "      <td>0</td>\n",
       "    </tr>\n",
       "  </tbody>\n",
       "</table>\n",
       "</div>"
      ],
      "text/plain": [
       "                                        Property  \\\n",
       "0  1 bedroom mini flat flat / apartment for sale   \n",
       "1       4 bedroom terraced duplex house for sale   \n",
       "2       4 bedroom terraced duplex house for sale   \n",
       "\n",
       "                                            Location  \\\n",
       "0  off general paints bus stop abraham adesanya e...   \n",
       "1                                     ajahajah lagos   \n",
       "2                           ekki palm cityajah lagos   \n",
       "\n",
       "                                         Description         Features  \\\n",
       "0  pacific manor ii is a residential estate with ...       1 bedrooms   \n",
       "1  nicely buit 4 bedroom terrace duplex;\\n\\nlocat...  4 bedrooms\\nnew   \n",
       "2  brand new 4 bedroom terrace duplex;\\n\\nlocatio...  4 bedrooms\\nnew   \n",
       "\n",
       "        Price  Bed  Bath  Toilet Built or Serviced    Property Type  Area  \\\n",
       "0  17500000.0  1.0   1.0     2.0               NaN        Mini flat  ajah   \n",
       "1  33000000.0  4.0   4.0     5.0       Newly Built  Terraced duplex  ajah   \n",
       "2  38000000.0  4.0   4.0     5.0       Newly Built  Terraced duplex  ajah   \n",
       "\n",
       "  Purchase Type  Parking Space  Security  Electricity  Furnished  \\\n",
       "0          sale              0         0            0          0   \n",
       "1          sale              0         1            0          0   \n",
       "2          sale              0         1            0          0   \n",
       "\n",
       "   Security Doors  CCTV  \n",
       "0               0     1  \n",
       "1               0     0  \n",
       "2               0     0  "
      ]
     },
     "execution_count": 41,
     "metadata": {},
     "output_type": "execute_result"
    }
   ],
   "source": [
    "df_sale.drop('Unnamed: 0', 1, inplace=True)\n",
    "df_sale.head(3)"
   ]
  },
  {
   "cell_type": "code",
   "execution_count": 42,
   "metadata": {},
   "outputs": [],
   "source": [
    "         ### CREATE NEW COLUMNS FOR HOUSES ATRIBUTES THAT MAY AFFECT THE PRICE ###\n",
    "## BOY QUATERS ##\n",
    "df_sale['BQ'] = np.where(((df_sale.Description.str.contains('bq'))|(df_sale.Features.str.contains('bq'))), 1, 0)\n",
    "\n",
    "## GYM ##\n",
    "df_sale['Gym'] = np.where(((df_sale.Description.str.contains('gym'))|(df_sale.Features.str.contains('gym'))), 1, 0)\n",
    "\n",
    "## POOL ##\n",
    "df_sale['Pool'] = np.where(((df_sale.Description.str.contains('pool'))|(df_sale.Features.str.contains('pool'))), 1, 0)"
   ]
  },
  {
   "cell_type": "markdown",
   "metadata": {},
   "source": [
    "# Basic EDA"
   ]
  },
  {
   "cell_type": "code",
   "execution_count": 7,
   "metadata": {},
   "outputs": [
    {
     "name": "stdout",
     "output_type": "stream",
     "text": [
      "The number of rows and colums are (25683, 21) and also called shape of the matrix\n"
     ]
    }
   ],
   "source": [
    "print(\"The number of rows and colums are {} and also called shape of the matrix\".format(df_sale.shape))"
   ]
  },
  {
   "cell_type": "code",
   "execution_count": 8,
   "metadata": {},
   "outputs": [
    {
     "name": "stdout",
     "output_type": "stream",
     "text": [
      "Columns names are \n",
      " Index(['Property', 'Location', 'Description', 'Features', 'Price', 'Bed',\n",
      "       'Bath', 'Toilet', 'Built or Serviced', 'Property Type', 'Area',\n",
      "       'Purchase Type', 'Parking Space', 'Security', 'Electricity',\n",
      "       'Furnished', 'Security Doors', 'CCTV', 'BQ', 'Gym', 'Pool'],\n",
      "      dtype='object')\n"
     ]
    }
   ],
   "source": [
    "print(\"Columns names are \\n {}\".format(df_sale.columns))"
   ]
  },
  {
   "cell_type": "code",
   "execution_count": 9,
   "metadata": {},
   "outputs": [
    {
     "name": "stdout",
     "output_type": "stream",
     "text": [
      "<class 'pandas.core.frame.DataFrame'>\n",
      "RangeIndex: 25683 entries, 0 to 25682\n",
      "Data columns (total 21 columns):\n",
      " #   Column             Non-Null Count  Dtype  \n",
      "---  ------             --------------  -----  \n",
      " 0   Property           25683 non-null  object \n",
      " 1   Location           25683 non-null  object \n",
      " 2   Description        25679 non-null  object \n",
      " 3   Features           24444 non-null  object \n",
      " 4   Price              25683 non-null  float64\n",
      " 5   Bed                24572 non-null  float64\n",
      " 6   Bath               23576 non-null  float64\n",
      " 7   Toilet             23271 non-null  float64\n",
      " 8   Built or Serviced  14925 non-null  object \n",
      " 9   Property Type      25683 non-null  object \n",
      " 10  Area               25683 non-null  object \n",
      " 11  Purchase Type      25683 non-null  object \n",
      " 12  Parking Space      25683 non-null  int64  \n",
      " 13  Security           25683 non-null  int64  \n",
      " 14  Electricity        25683 non-null  int64  \n",
      " 15  Furnished          25683 non-null  int64  \n",
      " 16  Security Doors     25683 non-null  int64  \n",
      " 17  CCTV               25683 non-null  int64  \n",
      " 18  BQ                 25683 non-null  int32  \n",
      " 19  Gym                25683 non-null  int32  \n",
      " 20  Pool               25683 non-null  int32  \n",
      "dtypes: float64(4), int32(3), int64(6), object(8)\n",
      "memory usage: 3.8+ MB\n"
     ]
    }
   ],
   "source": [
    "df_sale.info()"
   ]
  },
  {
   "cell_type": "code",
   "execution_count": 10,
   "metadata": {},
   "outputs": [
    {
     "data": {
      "text/html": [
       "<div>\n",
       "<style scoped>\n",
       "    .dataframe tbody tr th:only-of-type {\n",
       "        vertical-align: middle;\n",
       "    }\n",
       "\n",
       "    .dataframe tbody tr th {\n",
       "        vertical-align: top;\n",
       "    }\n",
       "\n",
       "    .dataframe thead th {\n",
       "        text-align: right;\n",
       "    }\n",
       "</style>\n",
       "<table border=\"1\" class=\"dataframe\">\n",
       "  <thead>\n",
       "    <tr style=\"text-align: right;\">\n",
       "      <th>Area</th>\n",
       "      <th>ajah</th>\n",
       "      <th>gbagada</th>\n",
       "      <th>ikeja</th>\n",
       "      <th>ikorodu</th>\n",
       "      <th>ikoyi</th>\n",
       "      <th>lekki</th>\n",
       "      <th>surulere</th>\n",
       "      <th>yaba</th>\n",
       "    </tr>\n",
       "    <tr>\n",
       "      <th>Bed</th>\n",
       "      <th></th>\n",
       "      <th></th>\n",
       "      <th></th>\n",
       "      <th></th>\n",
       "      <th></th>\n",
       "      <th></th>\n",
       "      <th></th>\n",
       "      <th></th>\n",
       "    </tr>\n",
       "  </thead>\n",
       "  <tbody>\n",
       "    <tr>\n",
       "      <th>0.0</th>\n",
       "      <td>108.0</td>\n",
       "      <td>29.0</td>\n",
       "      <td>61.0</td>\n",
       "      <td>54.0</td>\n",
       "      <td>72.0</td>\n",
       "      <td>328.0</td>\n",
       "      <td>41.0</td>\n",
       "      <td>37.0</td>\n",
       "    </tr>\n",
       "    <tr>\n",
       "      <th>1.0</th>\n",
       "      <td>111.0</td>\n",
       "      <td>20.0</td>\n",
       "      <td>6.0</td>\n",
       "      <td>31.0</td>\n",
       "      <td>22.0</td>\n",
       "      <td>112.0</td>\n",
       "      <td>23.0</td>\n",
       "      <td>41.0</td>\n",
       "    </tr>\n",
       "    <tr>\n",
       "      <th>2.0</th>\n",
       "      <td>353.0</td>\n",
       "      <td>24.0</td>\n",
       "      <td>59.0</td>\n",
       "      <td>128.0</td>\n",
       "      <td>103.0</td>\n",
       "      <td>672.0</td>\n",
       "      <td>69.0</td>\n",
       "      <td>98.0</td>\n",
       "    </tr>\n",
       "    <tr>\n",
       "      <th>3.0</th>\n",
       "      <td>1072.0</td>\n",
       "      <td>193.0</td>\n",
       "      <td>413.0</td>\n",
       "      <td>317.0</td>\n",
       "      <td>623.0</td>\n",
       "      <td>1497.0</td>\n",
       "      <td>332.0</td>\n",
       "      <td>330.0</td>\n",
       "    </tr>\n",
       "    <tr>\n",
       "      <th>4.0</th>\n",
       "      <td>1465.0</td>\n",
       "      <td>175.0</td>\n",
       "      <td>612.0</td>\n",
       "      <td>141.0</td>\n",
       "      <td>839.0</td>\n",
       "      <td>6916.0</td>\n",
       "      <td>142.0</td>\n",
       "      <td>106.0</td>\n",
       "    </tr>\n",
       "    <tr>\n",
       "      <th>5.0</th>\n",
       "      <td>529.0</td>\n",
       "      <td>79.0</td>\n",
       "      <td>430.0</td>\n",
       "      <td>53.0</td>\n",
       "      <td>789.0</td>\n",
       "      <td>4147.0</td>\n",
       "      <td>30.0</td>\n",
       "      <td>16.0</td>\n",
       "    </tr>\n",
       "    <tr>\n",
       "      <th>6.0</th>\n",
       "      <td>52.0</td>\n",
       "      <td>21.0</td>\n",
       "      <td>51.0</td>\n",
       "      <td>29.0</td>\n",
       "      <td>82.0</td>\n",
       "      <td>168.0</td>\n",
       "      <td>8.0</td>\n",
       "      <td>5.0</td>\n",
       "    </tr>\n",
       "    <tr>\n",
       "      <th>7.0</th>\n",
       "      <td>8.0</td>\n",
       "      <td>3.0</td>\n",
       "      <td>19.0</td>\n",
       "      <td>9.0</td>\n",
       "      <td>42.0</td>\n",
       "      <td>30.0</td>\n",
       "      <td>2.0</td>\n",
       "      <td>2.0</td>\n",
       "    </tr>\n",
       "    <tr>\n",
       "      <th>8.0</th>\n",
       "      <td>5.0</td>\n",
       "      <td>NaN</td>\n",
       "      <td>4.0</td>\n",
       "      <td>13.0</td>\n",
       "      <td>16.0</td>\n",
       "      <td>7.0</td>\n",
       "      <td>2.0</td>\n",
       "      <td>2.0</td>\n",
       "    </tr>\n",
       "    <tr>\n",
       "      <th>9.0</th>\n",
       "      <td>3.0</td>\n",
       "      <td>1.0</td>\n",
       "      <td>2.0</td>\n",
       "      <td>4.0</td>\n",
       "      <td>NaN</td>\n",
       "      <td>1.0</td>\n",
       "      <td>1.0</td>\n",
       "      <td>3.0</td>\n",
       "    </tr>\n",
       "    <tr>\n",
       "      <th>10.0</th>\n",
       "      <td>21.0</td>\n",
       "      <td>15.0</td>\n",
       "      <td>19.0</td>\n",
       "      <td>27.0</td>\n",
       "      <td>8.0</td>\n",
       "      <td>10.0</td>\n",
       "      <td>10.0</td>\n",
       "      <td>6.0</td>\n",
       "    </tr>\n",
       "    <tr>\n",
       "      <th>11.0</th>\n",
       "      <td>NaN</td>\n",
       "      <td>2.0</td>\n",
       "      <td>NaN</td>\n",
       "      <td>NaN</td>\n",
       "      <td>NaN</td>\n",
       "      <td>NaN</td>\n",
       "      <td>NaN</td>\n",
       "      <td>NaN</td>\n",
       "    </tr>\n",
       "    <tr>\n",
       "      <th>12.0</th>\n",
       "      <td>2.0</td>\n",
       "      <td>NaN</td>\n",
       "      <td>2.0</td>\n",
       "      <td>3.0</td>\n",
       "      <td>1.0</td>\n",
       "      <td>NaN</td>\n",
       "      <td>NaN</td>\n",
       "      <td>NaN</td>\n",
       "    </tr>\n",
       "    <tr>\n",
       "      <th>13.0</th>\n",
       "      <td>NaN</td>\n",
       "      <td>NaN</td>\n",
       "      <td>NaN</td>\n",
       "      <td>1.0</td>\n",
       "      <td>NaN</td>\n",
       "      <td>NaN</td>\n",
       "      <td>NaN</td>\n",
       "      <td>NaN</td>\n",
       "    </tr>\n",
       "    <tr>\n",
       "      <th>18.0</th>\n",
       "      <td>NaN</td>\n",
       "      <td>NaN</td>\n",
       "      <td>1.0</td>\n",
       "      <td>NaN</td>\n",
       "      <td>NaN</td>\n",
       "      <td>NaN</td>\n",
       "      <td>NaN</td>\n",
       "      <td>NaN</td>\n",
       "    </tr>\n",
       "    <tr>\n",
       "      <th>34.0</th>\n",
       "      <td>1.0</td>\n",
       "      <td>NaN</td>\n",
       "      <td>NaN</td>\n",
       "      <td>NaN</td>\n",
       "      <td>NaN</td>\n",
       "      <td>NaN</td>\n",
       "      <td>NaN</td>\n",
       "      <td>NaN</td>\n",
       "    </tr>\n",
       "  </tbody>\n",
       "</table>\n",
       "</div>"
      ],
      "text/plain": [
       "Area    ajah  gbagada  ikeja  ikorodu  ikoyi   lekki  surulere   yaba\n",
       "Bed                                                                  \n",
       "0.0    108.0     29.0   61.0     54.0   72.0   328.0      41.0   37.0\n",
       "1.0    111.0     20.0    6.0     31.0   22.0   112.0      23.0   41.0\n",
       "2.0    353.0     24.0   59.0    128.0  103.0   672.0      69.0   98.0\n",
       "3.0   1072.0    193.0  413.0    317.0  623.0  1497.0     332.0  330.0\n",
       "4.0   1465.0    175.0  612.0    141.0  839.0  6916.0     142.0  106.0\n",
       "5.0    529.0     79.0  430.0     53.0  789.0  4147.0      30.0   16.0\n",
       "6.0     52.0     21.0   51.0     29.0   82.0   168.0       8.0    5.0\n",
       "7.0      8.0      3.0   19.0      9.0   42.0    30.0       2.0    2.0\n",
       "8.0      5.0      NaN    4.0     13.0   16.0     7.0       2.0    2.0\n",
       "9.0      3.0      1.0    2.0      4.0    NaN     1.0       1.0    3.0\n",
       "10.0    21.0     15.0   19.0     27.0    8.0    10.0      10.0    6.0\n",
       "11.0     NaN      2.0    NaN      NaN    NaN     NaN       NaN    NaN\n",
       "12.0     2.0      NaN    2.0      3.0    1.0     NaN       NaN    NaN\n",
       "13.0     NaN      NaN    NaN      1.0    NaN     NaN       NaN    NaN\n",
       "18.0     NaN      NaN    1.0      NaN    NaN     NaN       NaN    NaN\n",
       "34.0     1.0      NaN    NaN      NaN    NaN     NaN       NaN    NaN"
      ]
     },
     "execution_count": 10,
     "metadata": {},
     "output_type": "execute_result"
    }
   ],
   "source": [
    "pd.crosstab(df_sale['Bed'],df_sale['Area'],values=df_sale['Price'], aggfunc='count' )"
   ]
  },
  {
   "cell_type": "code",
   "execution_count": 43,
   "metadata": {},
   "outputs": [],
   "source": [
    "# Droping houses with Bedroom greater than 10\n",
    "df_sale.drop(df_sale[df_sale['Bed']>10].index, inplace=True)"
   ]
  },
  {
   "cell_type": "code",
   "execution_count": 44,
   "metadata": {},
   "outputs": [
    {
     "data": {
      "text/plain": [
       "(1297, 21)"
      ]
     },
     "execution_count": 44,
     "metadata": {},
     "output_type": "execute_result"
    }
   ],
   "source": [
    "# Before working on houses with bedrooms equal to zero\n",
    "df_sale[((df_sale['Bed']==0)|(df_sale['Bed'].isna())) & (df_sale['Description'].str.contains('bedroom'))].shape"
   ]
  },
  {
   "cell_type": "code",
   "execution_count": 14,
   "metadata": {},
   "outputs": [
    {
     "data": {
      "text/plain": [
       "(25670, 21)"
      ]
     },
     "execution_count": 14,
     "metadata": {},
     "output_type": "execute_result"
    }
   ],
   "source": [
    "df_sale.shape"
   ]
  },
  {
   "cell_type": "code",
   "execution_count": 45,
   "metadata": {},
   "outputs": [],
   "source": [
    "def deep_cleaner(data):\n",
    "    # Droping houses with Bedroom greater than 10\n",
    "    data.drop(data[data['Bed']>10].index, inplace=True)\n",
    "    \n",
    "    # Working on houses with bedrooms equal to zero but information can be gotten from the description column.\n",
    "    d1 = data[((data['Bed']==0)|(data['Bed'].isna())) & (data['Description'].str.contains('bedroom'))]\n",
    "    \n",
    "    # List of numbers of room gotten from description information\n",
    "    mylist = [int(re.findall('\\d+',(re.findall('\\d+bedroom', x.replace(' ','')))[0])[0]) if len(re.findall('\\d+bedroom', x.replace(' ',''))) > 0 else 0\n",
    "        for x in d1['Description']]\n",
    "    \n",
    "    # Inserting values gotten from the description\n",
    "    d1.loc[:, 'Bed']= mylist\n",
    "    d1.loc[:, 'Bath']= mylist\n",
    "    d1.loc[:, 'Toilet']=[y+1 if y!= 0 else y for y in mylist]\n",
    "    \n",
    "    #Assigning these values to the original Dataframe\n",
    "    data[((data['Bed']==0)|(data['Bed'].isna()))  & (data['Description'].str.contains('bedroom'))] = d1\n",
    "    \n",
    "    # Assigning bath value to houses with bedroom == 0 or Nan. An intelligent guess.\n",
    "    data[((data['Bed']==0)|(data['Bed'].isnull())) & (data['Bath']==1)] = data[((data['Bed']==0)|(data['Bed'].isnull())) & (data['Bath']==1)].assign(Bed = 1, inplace=True)\n",
    "    data[((data['Bed']==0)|(data['Bed'].isnull())) & (data['Bath']==2)] = data[((data['Bed']==0)|(data['Bed'].isnull())) & (data['Bath']==2)].assign(Bed = 2, inplace=True)\n",
    "    data[((data['Bed']==0)|(data['Bed'].isnull())) & (data['Bath']==3)] = data[((data['Bed']==0)|(data['Bed'].isnull())) & (data['Bath']==3)].assign(Bed = 3, inplace=True)\n",
    "    \n",
    "    # Filling Bed, Bath and Toilet nan values with 1 for Self contain being mini flats have 1 room.\n",
    "    tmp = data[(data['Bed'].isnull()) & (data['Property Type'] == 'Self contain')]\n",
    "    tmp = tmp.assign(Bed=1, Bath=1, Toilet=1, inplace=True)\n",
    "    data[(data['Bed'].isnull()) & (data['Property Type'] == 'Self contain')] = tmp\n",
    "    \n",
    "    # Dropping rows with bed, bath and toilet value equal to zero\n",
    "    data.drop(data[(data['Bed']==0)].index, inplace = True) \n",
    "    \n",
    "    # Dropping Self Contain houses with bedrooms greater than 1\n",
    "    data.drop(data[(data['Property Type'] == 'Self contain') & (data['Bed'] > 1)].index, inplace=True)\n",
    "    \n",
    "    # Dropping properties which are short lets\n",
    "    data.drop(data[(data['Description'].str.contains('shortlet')) & (pd.notna(data['Description']))].index, inplace=True)\n",
    "    \n",
    "    # The rent Built or Serviced column has more than 50% missing data, so it should be dropped.\n",
    "    data.drop('Built or Serviced', 1, inplace=True)\n",
    "    \n",
    "    # Filling Bed, Bath and Toilet nan values with 1 for mini flats being mini flats have 1 room.\n",
    "    tmp = data[(data['Bed'].isnull()) & (data['Description'].str.contains('mini flat')|data['Description'].str.contains('self contain'))]\n",
    "    tmp[['Bed','Bath','Toilet']] = tmp[['Bed','Bath','Toilet']].fillna(1)\n",
    "    data[(data['Bed'].isnull()) & (data['Description'].str.contains('mini flat')|data['Description'].str.contains('self contain'))] = tmp\n",
    "    \n",
    "    tmp = data[(data['Bed'].isnull()) & (data['Property Type']=='Mini flat')]\n",
    "    tmp[['Bed','Bath','Toilet']] = tmp[['Bed','Bath','Toilet']].fillna(1)\n",
    "    data[(data['Bed'].isnull()) & (data['Property Type']=='Mini flat')] = tmp\n",
    "    \n",
    "    return data"
   ]
  },
  {
   "cell_type": "code",
   "execution_count": 20,
   "metadata": {},
   "outputs": [],
   "source": [
    "df_sale2 = deep_cleaner(df_sale)"
   ]
  },
  {
   "cell_type": "code",
   "execution_count": 21,
   "metadata": {},
   "outputs": [
    {
     "data": {
      "text/plain": [
       "(25268, 20)"
      ]
     },
     "execution_count": 21,
     "metadata": {},
     "output_type": "execute_result"
    }
   ],
   "source": [
    "df_sale2.shape"
   ]
  },
  {
   "cell_type": "code",
   "execution_count": 46,
   "metadata": {},
   "outputs": [
    {
     "data": {
      "text/html": [
       "<div>\n",
       "<style scoped>\n",
       "    .dataframe tbody tr th:only-of-type {\n",
       "        vertical-align: middle;\n",
       "    }\n",
       "\n",
       "    .dataframe tbody tr th {\n",
       "        vertical-align: top;\n",
       "    }\n",
       "\n",
       "    .dataframe thead th {\n",
       "        text-align: right;\n",
       "    }\n",
       "</style>\n",
       "<table border=\"1\" class=\"dataframe\">\n",
       "  <thead>\n",
       "    <tr style=\"text-align: right;\">\n",
       "      <th></th>\n",
       "      <th>Percentage_Mising</th>\n",
       "    </tr>\n",
       "  </thead>\n",
       "  <tbody>\n",
       "    <tr>\n",
       "      <th>Property</th>\n",
       "      <td>0.000000</td>\n",
       "    </tr>\n",
       "    <tr>\n",
       "      <th>Location</th>\n",
       "      <td>0.000000</td>\n",
       "    </tr>\n",
       "    <tr>\n",
       "      <th>Description</th>\n",
       "      <td>0.011873</td>\n",
       "    </tr>\n",
       "    <tr>\n",
       "      <th>Features</th>\n",
       "      <td>3.929872</td>\n",
       "    </tr>\n",
       "    <tr>\n",
       "      <th>Price</th>\n",
       "      <td>0.000000</td>\n",
       "    </tr>\n",
       "    <tr>\n",
       "      <th>Bed</th>\n",
       "      <td>1.242678</td>\n",
       "    </tr>\n",
       "    <tr>\n",
       "      <th>Bath</th>\n",
       "      <td>1.472218</td>\n",
       "    </tr>\n",
       "    <tr>\n",
       "      <th>Toilet</th>\n",
       "      <td>1.238721</td>\n",
       "    </tr>\n",
       "    <tr>\n",
       "      <th>Property Type</th>\n",
       "      <td>0.000000</td>\n",
       "    </tr>\n",
       "    <tr>\n",
       "      <th>Area</th>\n",
       "      <td>0.000000</td>\n",
       "    </tr>\n",
       "    <tr>\n",
       "      <th>Purchase Type</th>\n",
       "      <td>0.000000</td>\n",
       "    </tr>\n",
       "    <tr>\n",
       "      <th>Parking Space</th>\n",
       "      <td>0.000000</td>\n",
       "    </tr>\n",
       "    <tr>\n",
       "      <th>Security</th>\n",
       "      <td>0.000000</td>\n",
       "    </tr>\n",
       "    <tr>\n",
       "      <th>Electricity</th>\n",
       "      <td>0.000000</td>\n",
       "    </tr>\n",
       "    <tr>\n",
       "      <th>Furnished</th>\n",
       "      <td>0.000000</td>\n",
       "    </tr>\n",
       "    <tr>\n",
       "      <th>Security Doors</th>\n",
       "      <td>0.000000</td>\n",
       "    </tr>\n",
       "    <tr>\n",
       "      <th>CCTV</th>\n",
       "      <td>0.000000</td>\n",
       "    </tr>\n",
       "    <tr>\n",
       "      <th>BQ</th>\n",
       "      <td>0.000000</td>\n",
       "    </tr>\n",
       "    <tr>\n",
       "      <th>Gym</th>\n",
       "      <td>0.000000</td>\n",
       "    </tr>\n",
       "    <tr>\n",
       "      <th>Pool</th>\n",
       "      <td>0.000000</td>\n",
       "    </tr>\n",
       "  </tbody>\n",
       "</table>\n",
       "</div>"
      ],
      "text/plain": [
       "                Percentage_Mising\n",
       "Property                 0.000000\n",
       "Location                 0.000000\n",
       "Description              0.011873\n",
       "Features                 3.929872\n",
       "Price                    0.000000\n",
       "Bed                      1.242678\n",
       "Bath                     1.472218\n",
       "Toilet                   1.238721\n",
       "Property Type            0.000000\n",
       "Area                     0.000000\n",
       "Purchase Type            0.000000\n",
       "Parking Space            0.000000\n",
       "Security                 0.000000\n",
       "Electricity              0.000000\n",
       "Furnished                0.000000\n",
       "Security Doors           0.000000\n",
       "CCTV                     0.000000\n",
       "BQ                       0.000000\n",
       "Gym                      0.000000\n",
       "Pool                     0.000000"
      ]
     },
     "execution_count": 46,
     "metadata": {},
     "output_type": "execute_result"
    }
   ],
   "source": [
    "pd.DataFrame({'Percentage_Mising':(df_sale2.isnull().sum()/df_sale2.shape[0])* 100})"
   ]
  },
  {
   "cell_type": "code",
   "execution_count": 47,
   "metadata": {},
   "outputs": [],
   "source": [
    "# Filling Bed values with Bath values for rows that has bed as null\n",
    "tmp = df_sale2[(df_sale2['Bed'].isnull()) & (df_sale2['Bath']>0)]\n",
    "tmp['Bed'] = tmp['Bath']\n",
    "df_sale2[(df_sale2['Bed'].isnull()) & (df_sale2['Bath']>0)] =tmp"
   ]
  },
  {
   "cell_type": "code",
   "execution_count": 48,
   "metadata": {},
   "outputs": [],
   "source": [
    "# Assinging toilets with nan values with values from bed and adding 1 to it. An intelligent guess\n",
    "tmp = df_sale2[(df_sale2['Toilet'].isnull()) & (pd.notna(df_sale2['Bed']))]\n",
    "tmp['Toilet'] = tmp['Bed']+1\n",
    "tmp['Bath'] = tmp['Bed']\n",
    "df_sale2[(df_sale2['Toilet'].isnull()) & (pd.notna(df_sale2['Bed']))] = tmp"
   ]
  },
  {
   "cell_type": "code",
   "execution_count": 49,
   "metadata": {},
   "outputs": [],
   "source": [
    "# Dropping the rest rows with missing bed, bath and toilet values\n",
    "df_sale3 = df_sale2.dropna(subset=['Bed', 'Bath', 'Toilet'])"
   ]
  },
  {
   "cell_type": "code",
   "execution_count": 50,
   "metadata": {},
   "outputs": [],
   "source": [
    "cleaned_data = df_sale3.drop(['Property','Location','Description','Features',],axis=1)"
   ]
  },
  {
   "cell_type": "code",
   "execution_count": 35,
   "metadata": {},
   "outputs": [
    {
     "data": {
      "text/plain": [
       "'C:\\\\Users\\\\HP\\\\Desktop\\\\Data Jedi\\\\new\\\\data_cleaned'"
      ]
     },
     "execution_count": 35,
     "metadata": {},
     "output_type": "execute_result"
    }
   ],
   "source": [
    "path\n"
   ]
  },
  {
   "cell_type": "code",
   "execution_count": 28,
   "metadata": {},
   "outputs": [
    {
     "data": {
      "text/plain": [
       "(24896, 16)"
      ]
     },
     "execution_count": 28,
     "metadata": {},
     "output_type": "execute_result"
    }
   ],
   "source": [
    "cleaned_data.to_csv(path+'/')"
   ]
  },
  {
   "cell_type": "code",
   "execution_count": 27,
   "metadata": {},
   "outputs": [
    {
     "data": {
      "text/html": [
       "<div>\n",
       "<style scoped>\n",
       "    .dataframe tbody tr th:only-of-type {\n",
       "        vertical-align: middle;\n",
       "    }\n",
       "\n",
       "    .dataframe tbody tr th {\n",
       "        vertical-align: top;\n",
       "    }\n",
       "\n",
       "    .dataframe thead th {\n",
       "        text-align: right;\n",
       "    }\n",
       "</style>\n",
       "<table border=\"1\" class=\"dataframe\">\n",
       "  <thead>\n",
       "    <tr style=\"text-align: right;\">\n",
       "      <th></th>\n",
       "      <th>Percentage_Mising</th>\n",
       "    </tr>\n",
       "  </thead>\n",
       "  <tbody>\n",
       "    <tr>\n",
       "      <th>Price</th>\n",
       "      <td>0.0</td>\n",
       "    </tr>\n",
       "    <tr>\n",
       "      <th>Bed</th>\n",
       "      <td>0.0</td>\n",
       "    </tr>\n",
       "    <tr>\n",
       "      <th>Bath</th>\n",
       "      <td>0.0</td>\n",
       "    </tr>\n",
       "    <tr>\n",
       "      <th>Toilet</th>\n",
       "      <td>0.0</td>\n",
       "    </tr>\n",
       "    <tr>\n",
       "      <th>Property Type</th>\n",
       "      <td>0.0</td>\n",
       "    </tr>\n",
       "    <tr>\n",
       "      <th>Area</th>\n",
       "      <td>0.0</td>\n",
       "    </tr>\n",
       "    <tr>\n",
       "      <th>Purchase Type</th>\n",
       "      <td>0.0</td>\n",
       "    </tr>\n",
       "    <tr>\n",
       "      <th>Parking Space</th>\n",
       "      <td>0.0</td>\n",
       "    </tr>\n",
       "    <tr>\n",
       "      <th>Security</th>\n",
       "      <td>0.0</td>\n",
       "    </tr>\n",
       "    <tr>\n",
       "      <th>Electricity</th>\n",
       "      <td>0.0</td>\n",
       "    </tr>\n",
       "    <tr>\n",
       "      <th>Furnished</th>\n",
       "      <td>0.0</td>\n",
       "    </tr>\n",
       "    <tr>\n",
       "      <th>Security Doors</th>\n",
       "      <td>0.0</td>\n",
       "    </tr>\n",
       "    <tr>\n",
       "      <th>CCTV</th>\n",
       "      <td>0.0</td>\n",
       "    </tr>\n",
       "    <tr>\n",
       "      <th>BQ</th>\n",
       "      <td>0.0</td>\n",
       "    </tr>\n",
       "    <tr>\n",
       "      <th>Gym</th>\n",
       "      <td>0.0</td>\n",
       "    </tr>\n",
       "    <tr>\n",
       "      <th>Pool</th>\n",
       "      <td>0.0</td>\n",
       "    </tr>\n",
       "  </tbody>\n",
       "</table>\n",
       "</div>"
      ],
      "text/plain": [
       "                Percentage_Mising\n",
       "Price                         0.0\n",
       "Bed                           0.0\n",
       "Bath                          0.0\n",
       "Toilet                        0.0\n",
       "Property Type                 0.0\n",
       "Area                          0.0\n",
       "Purchase Type                 0.0\n",
       "Parking Space                 0.0\n",
       "Security                      0.0\n",
       "Electricity                   0.0\n",
       "Furnished                     0.0\n",
       "Security Doors                0.0\n",
       "CCTV                          0.0\n",
       "BQ                            0.0\n",
       "Gym                           0.0\n",
       "Pool                          0.0"
      ]
     },
     "execution_count": 27,
     "metadata": {},
     "output_type": "execute_result"
    }
   ],
   "source": [
    "pd.DataFrame({'Percentage_Mising':(cleaned_data.isnull().sum()/cleaned_data.shape[0])* 100})"
   ]
  },
  {
   "cell_type": "code",
   "execution_count": 51,
   "metadata": {},
   "outputs": [],
   "source": [
    "## ENCODE DATA FOR PREDICTION ##\n",
    "#One-Hot Encoding the Categorical Variables\n",
    "ohe_object = OneHotCategoricalEncoder(top_categories=None,drop_last=True)\n",
    "ohe_object.fit(cleaned_data)\n",
    "tmp = ohe_object.transform(cleaned_data)"
   ]
  },
  {
   "cell_type": "code",
   "execution_count": 52,
   "metadata": {},
   "outputs": [],
   "source": [
    "target = tmp['Price']\n",
    "features = tmp.drop('Price',1)"
   ]
  },
  {
   "cell_type": "code",
   "execution_count": 53,
   "metadata": {},
   "outputs": [],
   "source": [
    "X_train, X_test, y_train, y_test = train_test_split(features, target, test_size = 0.2, random_state=0)"
   ]
  },
  {
   "cell_type": "code",
   "execution_count": 54,
   "metadata": {},
   "outputs": [],
   "source": [
    "model_lr = RandomForestRegressor()"
   ]
  },
  {
   "cell_type": "code",
   "execution_count": 55,
   "metadata": {},
   "outputs": [
    {
     "data": {
      "text/plain": [
       "RandomForestRegressor()"
      ]
     },
     "execution_count": 55,
     "metadata": {},
     "output_type": "execute_result"
    }
   ],
   "source": [
    "model_lr.fit(X_train, y_train)"
   ]
  },
  {
   "cell_type": "code",
   "execution_count": 56,
   "metadata": {},
   "outputs": [
    {
     "data": {
      "text/plain": [
       "array([5.48795502e+07, 6.82958684e+07, 9.50758590e+07, ...,\n",
       "       2.02169365e+08, 7.85555927e+06, 2.10583492e+08])"
      ]
     },
     "execution_count": 56,
     "metadata": {},
     "output_type": "execute_result"
    }
   ],
   "source": [
    "model_lr.predict(X_test)"
   ]
  },
  {
   "cell_type": "code",
   "execution_count": 34,
   "metadata": {},
   "outputs": [
    {
     "data": {
      "text/plain": [
       "0.8611926297910892"
      ]
     },
     "execution_count": 34,
     "metadata": {},
     "output_type": "execute_result"
    }
   ],
   "source": [
    "model_lr.score(X_train, y_train)"
   ]
  },
  {
   "cell_type": "code",
   "execution_count": null,
   "metadata": {},
   "outputs": [],
   "source": [
    "# Predictor Function based on location.\n",
    "def predictor(data, area):\n",
    "    data = data[data['Area'] == area.lower()]\n",
    "    \n",
    "    # One-Hot Encoding the Categorical Variables\n",
    "    ohe_object = OneHotCategoricalEncoder(top_categories=None,drop_last=True)\n",
    "    ohe_object.fit(data)\n",
    "    \n",
    "    # Encoding our data\n",
    "    tmp = ohe_object.transform(data)\n",
    "    \n",
    "    # Assigning the Feature and Target values\n",
    "    target = tmp['Price']\n",
    "    features = tmp.drop('Price',1)\n",
    "    \n",
    "    # Splitting our data into Train and Test Sets\n",
    "    X_train, X_test, y_train, y_test = train_test_split(features, target, test_size = 0.2, random_state=10)\n",
    "    \n",
    "    # Creating the algorithm class\n",
    "    model_lr = RandomForestRegressor()\n",
    "    \n",
    "    # Creating algorithm object\n",
    "    model_lr.fit(X_train, y_train)\n",
    "    \n",
    "    # Score of our algorithm\n",
    "    score = model_lr.score(X_train, y_train)\n",
    "    \n",
    "    # Predicted values\n",
    "    predict = model_lr.predict(X_train)\n",
    "    \n",
    "    # Creating DataFrame to compare predicted values\n",
    "    predict_dataf = pd.DataFrame({'Predicted':predict, 'Real Values':y_train})\n",
    "    \n",
    "    return f'The R square score of the predictor is {score}'"
   ]
  }
 ],
 "metadata": {
  "kernelspec": {
   "display_name": "Python 3",
   "language": "python",
   "name": "python3"
  },
  "language_info": {
   "codemirror_mode": {
    "name": "ipython",
    "version": 3
   },
   "file_extension": ".py",
   "mimetype": "text/x-python",
   "name": "python",
   "nbconvert_exporter": "python",
   "pygments_lexer": "ipython3",
   "version": "3.7.4"
  }
 },
 "nbformat": 4,
 "nbformat_minor": 2
}
