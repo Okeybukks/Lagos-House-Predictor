{
 "cells": [
  {
   "cell_type": "code",
   "execution_count": 1,
   "metadata": {},
   "outputs": [
    {
     "name": "stdout",
     "output_type": "stream",
     "text": [
      "Populating the interactive namespace from numpy and matplotlib\n"
     ]
    }
   ],
   "source": [
    "#Import important Libraries\n",
    "import numpy as np\n",
    "import pandas as pd\n",
    "%pylab inline\n",
    "import seaborn as sns\n",
    "import matplotlib.pyplot as plt\n",
    "import re\n",
    "# Importing Neccessary Libraries\n",
    "import os"
   ]
  },
  {
   "cell_type": "code",
   "execution_count": 2,
   "metadata": {},
   "outputs": [],
   "source": [
    "path = os.getcwd()"
   ]
  },
  {
   "cell_type": "code",
   "execution_count": 3,
   "metadata": {},
   "outputs": [],
   "source": [
    "df_ajah_rent = pd.read_csv(path + '/Areas/ajah_rent_clean.csv')\n",
    "df_gbagada_rent = pd.read_csv(path + '/Areas/gbagada_rent_clean.csv')\n",
    "df_ikeja_rent = pd.read_csv(path + '/Areas/ikeja_rent_clean.csv')\n",
    "df_ikorodu_rent = pd.read_csv(path + '/Areas/ikorodu_rent_clean.csv')\n",
    "df_ikoyi_rent = pd.read_csv(path + '/Areas/ikoyi_rent_clean.csv')\n",
    "df_lekki_rent = pd.read_csv(path + '/Areas/lekki_rent_clean.csv')\n",
    "df_surulere_rent = pd.read_csv(path + '/Areas/surulere_rent_clean.csv')\n",
    "df_yaba_rent = pd.read_csv(path + '/Areas/yaba_rent_clean.csv')\n"
   ]
  },
  {
   "cell_type": "code",
   "execution_count": 4,
   "metadata": {},
   "outputs": [],
   "source": [
    "df_rent = pd.concat([df_ajah_rent, df_gbagada_rent, df_ikeja_rent, df_ikorodu_rent, df_ikoyi_rent, df_lekki_rent, df_surulere_rent, df_yaba_rent], join='outer', ignore_index=True)"
   ]
  },
  {
   "cell_type": "code",
   "execution_count": 6,
   "metadata": {},
   "outputs": [
    {
     "data": {
      "text/html": [
       "<div>\n",
       "<style scoped>\n",
       "    .dataframe tbody tr th:only-of-type {\n",
       "        vertical-align: middle;\n",
       "    }\n",
       "\n",
       "    .dataframe tbody tr th {\n",
       "        vertical-align: top;\n",
       "    }\n",
       "\n",
       "    .dataframe thead th {\n",
       "        text-align: right;\n",
       "    }\n",
       "</style>\n",
       "<table border=\"1\" class=\"dataframe\">\n",
       "  <thead>\n",
       "    <tr style=\"text-align: right;\">\n",
       "      <th></th>\n",
       "      <th>Property</th>\n",
       "      <th>Location</th>\n",
       "      <th>Description</th>\n",
       "      <th>Features</th>\n",
       "      <th>Price</th>\n",
       "      <th>Bed</th>\n",
       "      <th>Bath</th>\n",
       "      <th>Toilet</th>\n",
       "      <th>Built or Serviced</th>\n",
       "      <th>Property Type</th>\n",
       "      <th>Area</th>\n",
       "      <th>Purchase Type</th>\n",
       "      <th>Parking Space</th>\n",
       "      <th>Security</th>\n",
       "      <th>Electricity</th>\n",
       "      <th>Furnished</th>\n",
       "      <th>Security Doors</th>\n",
       "      <th>CCTV</th>\n",
       "    </tr>\n",
       "  </thead>\n",
       "  <tbody>\n",
       "    <tr>\n",
       "      <th>0</th>\n",
       "      <td>2 bedroom flat / apartment for rent</td>\n",
       "      <td>...sangotedo ajah lagos</td>\n",
       "      <td>a very spacious and sweet 2 bedroom flat en-su...</td>\n",
       "      <td>2 bedrooms</td>\n",
       "      <td>800000.0</td>\n",
       "      <td>2.0</td>\n",
       "      <td>3.0</td>\n",
       "      <td>3.0</td>\n",
       "      <td>NaN</td>\n",
       "      <td>Flat / apartment</td>\n",
       "      <td>ajah</td>\n",
       "      <td>rent</td>\n",
       "      <td>0</td>\n",
       "      <td>0</td>\n",
       "      <td>0</td>\n",
       "      <td>0</td>\n",
       "      <td>0</td>\n",
       "      <td>0</td>\n",
       "    </tr>\n",
       "    <tr>\n",
       "      <th>1</th>\n",
       "      <td>1 bedroom mini flat boys quarters flat / apart...</td>\n",
       "      <td>.sangotedo ajah lagos</td>\n",
       "      <td>a very sweet minni flat for rent very close to...</td>\n",
       "      <td>1 bedrooms</td>\n",
       "      <td>700000.0</td>\n",
       "      <td>1.0</td>\n",
       "      <td>2.0</td>\n",
       "      <td>2.0</td>\n",
       "      <td>NaN</td>\n",
       "      <td>Mini flat</td>\n",
       "      <td>ajah</td>\n",
       "      <td>rent</td>\n",
       "      <td>0</td>\n",
       "      <td>0</td>\n",
       "      <td>0</td>\n",
       "      <td>0</td>\n",
       "      <td>0</td>\n",
       "      <td>0</td>\n",
       "    </tr>\n",
       "    <tr>\n",
       "      <th>2</th>\n",
       "      <td>1 bedroom mini flat mini flat flat / apartment...</td>\n",
       "      <td>lekki palm city ajah lagosajah lagos</td>\n",
       "      <td>a newly built 1 bedroom mini flat with visitor...</td>\n",
       "      <td>1 bedrooms\\nnew</td>\n",
       "      <td>900000.0</td>\n",
       "      <td>1.0</td>\n",
       "      <td>1.0</td>\n",
       "      <td>2.0</td>\n",
       "      <td>Newly Built</td>\n",
       "      <td>Mini flat</td>\n",
       "      <td>ajah</td>\n",
       "      <td>rent</td>\n",
       "      <td>0</td>\n",
       "      <td>0</td>\n",
       "      <td>0</td>\n",
       "      <td>0</td>\n",
       "      <td>0</td>\n",
       "      <td>0</td>\n",
       "    </tr>\n",
       "  </tbody>\n",
       "</table>\n",
       "</div>"
      ],
      "text/plain": [
       "                                            Property  \\\n",
       "0                2 bedroom flat / apartment for rent   \n",
       "1  1 bedroom mini flat boys quarters flat / apart...   \n",
       "2  1 bedroom mini flat mini flat flat / apartment...   \n",
       "\n",
       "                               Location  \\\n",
       "0               ...sangotedo ajah lagos   \n",
       "1                 .sangotedo ajah lagos   \n",
       "2  lekki palm city ajah lagosajah lagos   \n",
       "\n",
       "                                         Description         Features  \\\n",
       "0  a very spacious and sweet 2 bedroom flat en-su...       2 bedrooms   \n",
       "1  a very sweet minni flat for rent very close to...       1 bedrooms   \n",
       "2  a newly built 1 bedroom mini flat with visitor...  1 bedrooms\\nnew   \n",
       "\n",
       "      Price  Bed  Bath  Toilet Built or Serviced     Property Type  Area  \\\n",
       "0  800000.0  2.0   3.0     3.0               NaN  Flat / apartment  ajah   \n",
       "1  700000.0  1.0   2.0     2.0               NaN         Mini flat  ajah   \n",
       "2  900000.0  1.0   1.0     2.0       Newly Built         Mini flat  ajah   \n",
       "\n",
       "  Purchase Type  Parking Space  Security  Electricity  Furnished  \\\n",
       "0          rent              0         0            0          0   \n",
       "1          rent              0         0            0          0   \n",
       "2          rent              0         0            0          0   \n",
       "\n",
       "   Security Doors  CCTV  \n",
       "0               0     0  \n",
       "1               0     0  \n",
       "2               0     0  "
      ]
     },
     "execution_count": 6,
     "metadata": {},
     "output_type": "execute_result"
    }
   ],
   "source": [
    "df_rent.drop('Unnamed: 0', 1, inplace=True)\n",
    "df_rent.head(3)"
   ]
  },
  {
   "cell_type": "code",
   "execution_count": 7,
   "metadata": {},
   "outputs": [],
   "source": [
    "         ### CREATE NEW COLUMNS FOR HOUSES ATRIBUTES THAT MAY AFFECT THE PRICE ###\n",
    "## BOY QUATERS ##\n",
    "df_rent['BQ'] = np.where(((df_rent.Description.str.contains('bq'))|(df_rent.Features.str.contains('bq'))), 1, 0)\n",
    "\n",
    "## GYM ##\n",
    "df_rent['Gym'] = np.where(((df_rent.Description.str.contains('gym'))|(df_rent.Features.str.contains('gym'))), 1, 0)\n",
    "\n",
    "## POOL ##\n",
    "df_rent['Pool'] = np.where(((df_rent.Description.str.contains('pool'))|(df_rent.Features.str.contains('pool'))), 1, 0)\n",
    "                \n"
   ]
  },
  {
   "cell_type": "markdown",
   "metadata": {},
   "source": [
    "# BASIC EDA"
   ]
  },
  {
   "cell_type": "code",
   "execution_count": 8,
   "metadata": {},
   "outputs": [
    {
     "name": "stdout",
     "output_type": "stream",
     "text": [
      "The number of rows and colums are (30622, 21) and also called shape of the matrix\n"
     ]
    }
   ],
   "source": [
    "print(\"The number of rows and colums are {} and also called shape of the matrix\".format(df_rent.shape))\n"
   ]
  },
  {
   "cell_type": "code",
   "execution_count": 9,
   "metadata": {},
   "outputs": [
    {
     "name": "stdout",
     "output_type": "stream",
     "text": [
      "Columns names are \n",
      " Index(['Property', 'Location', 'Description', 'Features', 'Price', 'Bed',\n",
      "       'Bath', 'Toilet', 'Built or Serviced', 'Property Type', 'Area',\n",
      "       'Purchase Type', 'Parking Space', 'Security', 'Electricity',\n",
      "       'Furnished', 'Security Doors', 'CCTV', 'BQ', 'Gym', 'Pool'],\n",
      "      dtype='object')\n"
     ]
    }
   ],
   "source": [
    "print(\"Columns names are \\n {}\".format(df_rent.columns))"
   ]
  },
  {
   "cell_type": "code",
   "execution_count": 10,
   "metadata": {
    "scrolled": true
   },
   "outputs": [
    {
     "name": "stdout",
     "output_type": "stream",
     "text": [
      "<class 'pandas.core.frame.DataFrame'>\n",
      "RangeIndex: 30622 entries, 0 to 30621\n",
      "Data columns (total 21 columns):\n",
      " #   Column             Non-Null Count  Dtype  \n",
      "---  ------             --------------  -----  \n",
      " 0   Property           30622 non-null  object \n",
      " 1   Location           30622 non-null  object \n",
      " 2   Description        30616 non-null  object \n",
      " 3   Features           29091 non-null  object \n",
      " 4   Price              30622 non-null  float64\n",
      " 5   Bed                29902 non-null  float64\n",
      " 6   Bath               29622 non-null  float64\n",
      " 7   Toilet             28906 non-null  float64\n",
      " 8   Built or Serviced  9145 non-null   object \n",
      " 9   Property Type      30622 non-null  object \n",
      " 10  Area               30622 non-null  object \n",
      " 11  Purchase Type      30622 non-null  object \n",
      " 12  Parking Space      30622 non-null  int64  \n",
      " 13  Security           30622 non-null  int64  \n",
      " 14  Electricity        30622 non-null  int64  \n",
      " 15  Furnished          30622 non-null  int64  \n",
      " 16  Security Doors     30622 non-null  int64  \n",
      " 17  CCTV               30622 non-null  int64  \n",
      " 18  BQ                 30622 non-null  int32  \n",
      " 19  Gym                30622 non-null  int32  \n",
      " 20  Pool               30622 non-null  int32  \n",
      "dtypes: float64(4), int32(3), int64(6), object(8)\n",
      "memory usage: 4.6+ MB\n"
     ]
    }
   ],
   "source": [
    "df_rent.info()"
   ]
  },
  {
   "cell_type": "code",
   "execution_count": 11,
   "metadata": {
    "scrolled": true
   },
   "outputs": [
    {
     "data": {
      "text/html": [
       "<div>\n",
       "<style scoped>\n",
       "    .dataframe tbody tr th:only-of-type {\n",
       "        vertical-align: middle;\n",
       "    }\n",
       "\n",
       "    .dataframe tbody tr th {\n",
       "        vertical-align: top;\n",
       "    }\n",
       "\n",
       "    .dataframe thead th {\n",
       "        text-align: right;\n",
       "    }\n",
       "</style>\n",
       "<table border=\"1\" class=\"dataframe\">\n",
       "  <thead>\n",
       "    <tr style=\"text-align: right;\">\n",
       "      <th>Area</th>\n",
       "      <th>ajah</th>\n",
       "      <th>gbagada</th>\n",
       "      <th>ikeja</th>\n",
       "      <th>ikorodu</th>\n",
       "      <th>ikoyi</th>\n",
       "      <th>lekki</th>\n",
       "      <th>surulere</th>\n",
       "      <th>yaba</th>\n",
       "    </tr>\n",
       "    <tr>\n",
       "      <th>Bed</th>\n",
       "      <th></th>\n",
       "      <th></th>\n",
       "      <th></th>\n",
       "      <th></th>\n",
       "      <th></th>\n",
       "      <th></th>\n",
       "      <th></th>\n",
       "      <th></th>\n",
       "    </tr>\n",
       "  </thead>\n",
       "  <tbody>\n",
       "    <tr>\n",
       "      <th>0.0</th>\n",
       "      <td>203.0</td>\n",
       "      <td>78.0</td>\n",
       "      <td>100.0</td>\n",
       "      <td>26.0</td>\n",
       "      <td>62.0</td>\n",
       "      <td>220.0</td>\n",
       "      <td>120.0</td>\n",
       "      <td>351.0</td>\n",
       "    </tr>\n",
       "    <tr>\n",
       "      <th>1.0</th>\n",
       "      <td>1426.0</td>\n",
       "      <td>835.0</td>\n",
       "      <td>699.0</td>\n",
       "      <td>228.0</td>\n",
       "      <td>156.0</td>\n",
       "      <td>526.0</td>\n",
       "      <td>1197.0</td>\n",
       "      <td>2166.0</td>\n",
       "    </tr>\n",
       "    <tr>\n",
       "      <th>2.0</th>\n",
       "      <td>1479.0</td>\n",
       "      <td>1156.0</td>\n",
       "      <td>626.0</td>\n",
       "      <td>509.0</td>\n",
       "      <td>408.0</td>\n",
       "      <td>362.0</td>\n",
       "      <td>1185.0</td>\n",
       "      <td>1648.0</td>\n",
       "    </tr>\n",
       "    <tr>\n",
       "      <th>3.0</th>\n",
       "      <td>1940.0</td>\n",
       "      <td>1689.0</td>\n",
       "      <td>1652.0</td>\n",
       "      <td>359.0</td>\n",
       "      <td>1910.0</td>\n",
       "      <td>692.0</td>\n",
       "      <td>995.0</td>\n",
       "      <td>1510.0</td>\n",
       "    </tr>\n",
       "    <tr>\n",
       "      <th>4.0</th>\n",
       "      <td>306.0</td>\n",
       "      <td>107.0</td>\n",
       "      <td>395.0</td>\n",
       "      <td>13.0</td>\n",
       "      <td>885.0</td>\n",
       "      <td>876.0</td>\n",
       "      <td>68.0</td>\n",
       "      <td>45.0</td>\n",
       "    </tr>\n",
       "    <tr>\n",
       "      <th>5.0</th>\n",
       "      <td>27.0</td>\n",
       "      <td>15.0</td>\n",
       "      <td>128.0</td>\n",
       "      <td>1.0</td>\n",
       "      <td>194.0</td>\n",
       "      <td>240.0</td>\n",
       "      <td>3.0</td>\n",
       "      <td>6.0</td>\n",
       "    </tr>\n",
       "    <tr>\n",
       "      <th>6.0</th>\n",
       "      <td>6.0</td>\n",
       "      <td>1.0</td>\n",
       "      <td>15.0</td>\n",
       "      <td>NaN</td>\n",
       "      <td>17.0</td>\n",
       "      <td>6.0</td>\n",
       "      <td>NaN</td>\n",
       "      <td>NaN</td>\n",
       "    </tr>\n",
       "    <tr>\n",
       "      <th>7.0</th>\n",
       "      <td>NaN</td>\n",
       "      <td>NaN</td>\n",
       "      <td>5.0</td>\n",
       "      <td>NaN</td>\n",
       "      <td>3.0</td>\n",
       "      <td>4.0</td>\n",
       "      <td>NaN</td>\n",
       "      <td>NaN</td>\n",
       "    </tr>\n",
       "    <tr>\n",
       "      <th>8.0</th>\n",
       "      <td>NaN</td>\n",
       "      <td>NaN</td>\n",
       "      <td>3.0</td>\n",
       "      <td>NaN</td>\n",
       "      <td>3.0</td>\n",
       "      <td>NaN</td>\n",
       "      <td>NaN</td>\n",
       "      <td>NaN</td>\n",
       "    </tr>\n",
       "    <tr>\n",
       "      <th>9.0</th>\n",
       "      <td>NaN</td>\n",
       "      <td>NaN</td>\n",
       "      <td>2.0</td>\n",
       "      <td>NaN</td>\n",
       "      <td>NaN</td>\n",
       "      <td>NaN</td>\n",
       "      <td>NaN</td>\n",
       "      <td>NaN</td>\n",
       "    </tr>\n",
       "    <tr>\n",
       "      <th>10.0</th>\n",
       "      <td>1.0</td>\n",
       "      <td>NaN</td>\n",
       "      <td>6.0</td>\n",
       "      <td>NaN</td>\n",
       "      <td>5.0</td>\n",
       "      <td>NaN</td>\n",
       "      <td>NaN</td>\n",
       "      <td>3.0</td>\n",
       "    </tr>\n",
       "  </tbody>\n",
       "</table>\n",
       "</div>"
      ],
      "text/plain": [
       "Area    ajah  gbagada   ikeja  ikorodu   ikoyi  lekki  surulere    yaba\n",
       "Bed                                                                    \n",
       "0.0    203.0     78.0   100.0     26.0    62.0  220.0     120.0   351.0\n",
       "1.0   1426.0    835.0   699.0    228.0   156.0  526.0    1197.0  2166.0\n",
       "2.0   1479.0   1156.0   626.0    509.0   408.0  362.0    1185.0  1648.0\n",
       "3.0   1940.0   1689.0  1652.0    359.0  1910.0  692.0     995.0  1510.0\n",
       "4.0    306.0    107.0   395.0     13.0   885.0  876.0      68.0    45.0\n",
       "5.0     27.0     15.0   128.0      1.0   194.0  240.0       3.0     6.0\n",
       "6.0      6.0      1.0    15.0      NaN    17.0    6.0       NaN     NaN\n",
       "7.0      NaN      NaN     5.0      NaN     3.0    4.0       NaN     NaN\n",
       "8.0      NaN      NaN     3.0      NaN     3.0    NaN       NaN     NaN\n",
       "9.0      NaN      NaN     2.0      NaN     NaN    NaN       NaN     NaN\n",
       "10.0     1.0      NaN     6.0      NaN     5.0    NaN       NaN     3.0"
      ]
     },
     "execution_count": 11,
     "metadata": {},
     "output_type": "execute_result"
    }
   ],
   "source": [
    "pd.crosstab(df_rent['Bed'],df_rent['Area'],values=df_rent['Price'], aggfunc='count' )"
   ]
  },
  {
   "cell_type": "code",
   "execution_count": 13,
   "metadata": {},
   "outputs": [
    {
     "data": {
      "text/plain": [
       "(500, 21)"
      ]
     },
     "execution_count": 13,
     "metadata": {},
     "output_type": "execute_result"
    }
   ],
   "source": [
    "# Before working on houses with bedrooms equal to zero\n",
    "df_rent[((df_rent['Bed']==0)|(df_rent['Bed'].isna())) & (df_rent['Description'].str.contains('bedroom'))].shape"
   ]
  },
  {
   "cell_type": "code",
   "execution_count": 14,
   "metadata": {
    "scrolled": true
   },
   "outputs": [],
   "source": [
    "# Getting information of number of bedrooms from description for houses with beds equal to zero or nan.\n",
    "d1 =df_rent[((df_rent['Bed']==0)|(df_rent['Bed'].isna())) & (df_rent['Description'].str.contains('bedroom'))]"
   ]
  },
  {
   "cell_type": "code",
   "execution_count": 16,
   "metadata": {},
   "outputs": [
    {
     "data": {
      "text/html": [
       "<div>\n",
       "<style scoped>\n",
       "    .dataframe tbody tr th:only-of-type {\n",
       "        vertical-align: middle;\n",
       "    }\n",
       "\n",
       "    .dataframe tbody tr th {\n",
       "        vertical-align: top;\n",
       "    }\n",
       "\n",
       "    .dataframe thead th {\n",
       "        text-align: right;\n",
       "    }\n",
       "</style>\n",
       "<table border=\"1\" class=\"dataframe\">\n",
       "  <thead>\n",
       "    <tr style=\"text-align: right;\">\n",
       "      <th></th>\n",
       "      <th>Property</th>\n",
       "      <th>Location</th>\n",
       "      <th>Description</th>\n",
       "      <th>Features</th>\n",
       "      <th>Price</th>\n",
       "      <th>Bed</th>\n",
       "      <th>Bath</th>\n",
       "      <th>Toilet</th>\n",
       "      <th>Built or Serviced</th>\n",
       "      <th>Property Type</th>\n",
       "      <th>...</th>\n",
       "      <th>Purchase Type</th>\n",
       "      <th>Parking Space</th>\n",
       "      <th>Security</th>\n",
       "      <th>Electricity</th>\n",
       "      <th>Furnished</th>\n",
       "      <th>Security Doors</th>\n",
       "      <th>CCTV</th>\n",
       "      <th>BQ</th>\n",
       "      <th>Gym</th>\n",
       "      <th>Pool</th>\n",
       "    </tr>\n",
       "  </thead>\n",
       "  <tbody>\n",
       "    <tr>\n",
       "      <th>108</th>\n",
       "      <td>flat / apartment for rent</td>\n",
       "      <td>ajah lagos</td>\n",
       "      <td>2bedroom for let at mobile road ajah</td>\n",
       "      <td>NaN</td>\n",
       "      <td>900000.0</td>\n",
       "      <td>NaN</td>\n",
       "      <td>NaN</td>\n",
       "      <td>NaN</td>\n",
       "      <td>NaN</td>\n",
       "      <td>Flat / apartment</td>\n",
       "      <td>...</td>\n",
       "      <td>rent</td>\n",
       "      <td>0</td>\n",
       "      <td>0</td>\n",
       "      <td>0</td>\n",
       "      <td>0</td>\n",
       "      <td>0</td>\n",
       "      <td>0</td>\n",
       "      <td>0</td>\n",
       "      <td>0</td>\n",
       "      <td>0</td>\n",
       "    </tr>\n",
       "    <tr>\n",
       "      <th>133</th>\n",
       "      <td>flat / apartment for rent</td>\n",
       "      <td>terra anex estatesangotedo ajah lagos</td>\n",
       "      <td>to let 2bedroom flat at terra anex estate sheg...</td>\n",
       "      <td>NaN</td>\n",
       "      <td>800000.0</td>\n",
       "      <td>0.0</td>\n",
       "      <td>0.0</td>\n",
       "      <td>0.0</td>\n",
       "      <td>NaN</td>\n",
       "      <td>Flat / apartment</td>\n",
       "      <td>...</td>\n",
       "      <td>rent</td>\n",
       "      <td>0</td>\n",
       "      <td>0</td>\n",
       "      <td>0</td>\n",
       "      <td>0</td>\n",
       "      <td>0</td>\n",
       "      <td>0</td>\n",
       "      <td>0</td>\n",
       "      <td>0</td>\n",
       "      <td>0</td>\n",
       "    </tr>\n",
       "  </tbody>\n",
       "</table>\n",
       "<p>2 rows × 21 columns</p>\n",
       "</div>"
      ],
      "text/plain": [
       "                      Property                               Location  \\\n",
       "108  flat / apartment for rent                             ajah lagos   \n",
       "133  flat / apartment for rent  terra anex estatesangotedo ajah lagos   \n",
       "\n",
       "                                           Description Features     Price  \\\n",
       "108               2bedroom for let at mobile road ajah      NaN  900000.0   \n",
       "133  to let 2bedroom flat at terra anex estate sheg...      NaN  800000.0   \n",
       "\n",
       "     Bed  Bath  Toilet Built or Serviced     Property Type  ... Purchase Type  \\\n",
       "108  NaN   NaN     NaN               NaN  Flat / apartment  ...          rent   \n",
       "133  0.0   0.0     0.0               NaN  Flat / apartment  ...          rent   \n",
       "\n",
       "    Parking Space  Security  Electricity  Furnished  Security Doors  CCTV  BQ  \\\n",
       "108             0         0            0          0               0     0   0   \n",
       "133             0         0            0          0               0     0   0   \n",
       "\n",
       "     Gym  Pool  \n",
       "108    0     0  \n",
       "133    0     0  \n",
       "\n",
       "[2 rows x 21 columns]"
      ]
     },
     "execution_count": 16,
     "metadata": {},
     "output_type": "execute_result"
    }
   ],
   "source": [
    "# Before inserting values for beds, baths and rooms\n",
    "d1.head(2)"
   ]
  },
  {
   "cell_type": "code",
   "execution_count": 17,
   "metadata": {},
   "outputs": [],
   "source": [
    "# List of numbers of room gotten from description information\n",
    "mylist = [int(re.findall('\\d+',(re.findall('\\d+bedroom', x.replace(' ','')))[0])[0]) if len(re.findall('\\d+bedroom', x.replace(' ',''))) > 0 else 0\n",
    "        for x in d1['Description']]"
   ]
  },
  {
   "cell_type": "code",
   "execution_count": 18,
   "metadata": {},
   "outputs": [
    {
     "name": "stderr",
     "output_type": "stream",
     "text": [
      "C:\\Users\\HP\\Anaconda3\\lib\\site-packages\\pandas\\core\\indexing.py:1745: SettingWithCopyWarning: \n",
      "A value is trying to be set on a copy of a slice from a DataFrame.\n",
      "Try using .loc[row_indexer,col_indexer] = value instead\n",
      "\n",
      "See the caveats in the documentation: https://pandas.pydata.org/pandas-docs/stable/user_guide/indexing.html#returning-a-view-versus-a-copy\n",
      "  isetter(ilocs[0], value)\n"
     ]
    }
   ],
   "source": [
    "# Inserting values gotten from the description\n",
    "d1.loc[:, 'Bed']= mylist\n",
    "d1.loc[:, 'Bath']= mylist\n",
    "d1.loc[:, 'Toilet']=[y+1 if y!= 0 else y for y in mylist]"
   ]
  },
  {
   "cell_type": "code",
   "execution_count": 19,
   "metadata": {
    "scrolled": true
   },
   "outputs": [
    {
     "data": {
      "text/html": [
       "<div>\n",
       "<style scoped>\n",
       "    .dataframe tbody tr th:only-of-type {\n",
       "        vertical-align: middle;\n",
       "    }\n",
       "\n",
       "    .dataframe tbody tr th {\n",
       "        vertical-align: top;\n",
       "    }\n",
       "\n",
       "    .dataframe thead th {\n",
       "        text-align: right;\n",
       "    }\n",
       "</style>\n",
       "<table border=\"1\" class=\"dataframe\">\n",
       "  <thead>\n",
       "    <tr style=\"text-align: right;\">\n",
       "      <th></th>\n",
       "      <th>Property</th>\n",
       "      <th>Location</th>\n",
       "      <th>Description</th>\n",
       "      <th>Features</th>\n",
       "      <th>Price</th>\n",
       "      <th>Bed</th>\n",
       "      <th>Bath</th>\n",
       "      <th>Toilet</th>\n",
       "      <th>Built or Serviced</th>\n",
       "      <th>Property Type</th>\n",
       "      <th>...</th>\n",
       "      <th>Purchase Type</th>\n",
       "      <th>Parking Space</th>\n",
       "      <th>Security</th>\n",
       "      <th>Electricity</th>\n",
       "      <th>Furnished</th>\n",
       "      <th>Security Doors</th>\n",
       "      <th>CCTV</th>\n",
       "      <th>BQ</th>\n",
       "      <th>Gym</th>\n",
       "      <th>Pool</th>\n",
       "    </tr>\n",
       "  </thead>\n",
       "  <tbody>\n",
       "    <tr>\n",
       "      <th>108</th>\n",
       "      <td>flat / apartment for rent</td>\n",
       "      <td>ajah lagos</td>\n",
       "      <td>2bedroom for let at mobile road ajah</td>\n",
       "      <td>NaN</td>\n",
       "      <td>900000.0</td>\n",
       "      <td>2</td>\n",
       "      <td>2</td>\n",
       "      <td>3</td>\n",
       "      <td>NaN</td>\n",
       "      <td>Flat / apartment</td>\n",
       "      <td>...</td>\n",
       "      <td>rent</td>\n",
       "      <td>0</td>\n",
       "      <td>0</td>\n",
       "      <td>0</td>\n",
       "      <td>0</td>\n",
       "      <td>0</td>\n",
       "      <td>0</td>\n",
       "      <td>0</td>\n",
       "      <td>0</td>\n",
       "      <td>0</td>\n",
       "    </tr>\n",
       "    <tr>\n",
       "      <th>133</th>\n",
       "      <td>flat / apartment for rent</td>\n",
       "      <td>terra anex estatesangotedo ajah lagos</td>\n",
       "      <td>to let 2bedroom flat at terra anex estate sheg...</td>\n",
       "      <td>NaN</td>\n",
       "      <td>800000.0</td>\n",
       "      <td>2</td>\n",
       "      <td>2</td>\n",
       "      <td>3</td>\n",
       "      <td>NaN</td>\n",
       "      <td>Flat / apartment</td>\n",
       "      <td>...</td>\n",
       "      <td>rent</td>\n",
       "      <td>0</td>\n",
       "      <td>0</td>\n",
       "      <td>0</td>\n",
       "      <td>0</td>\n",
       "      <td>0</td>\n",
       "      <td>0</td>\n",
       "      <td>0</td>\n",
       "      <td>0</td>\n",
       "      <td>0</td>\n",
       "    </tr>\n",
       "  </tbody>\n",
       "</table>\n",
       "<p>2 rows × 21 columns</p>\n",
       "</div>"
      ],
      "text/plain": [
       "                      Property                               Location  \\\n",
       "108  flat / apartment for rent                             ajah lagos   \n",
       "133  flat / apartment for rent  terra anex estatesangotedo ajah lagos   \n",
       "\n",
       "                                           Description Features     Price  \\\n",
       "108               2bedroom for let at mobile road ajah      NaN  900000.0   \n",
       "133  to let 2bedroom flat at terra anex estate sheg...      NaN  800000.0   \n",
       "\n",
       "     Bed  Bath  Toilet Built or Serviced     Property Type  ... Purchase Type  \\\n",
       "108    2     2       3               NaN  Flat / apartment  ...          rent   \n",
       "133    2     2       3               NaN  Flat / apartment  ...          rent   \n",
       "\n",
       "    Parking Space  Security  Electricity  Furnished  Security Doors  CCTV  BQ  \\\n",
       "108             0         0            0          0               0     0   0   \n",
       "133             0         0            0          0               0     0   0   \n",
       "\n",
       "     Gym  Pool  \n",
       "108    0     0  \n",
       "133    0     0  \n",
       "\n",
       "[2 rows x 21 columns]"
      ]
     },
     "execution_count": 19,
     "metadata": {},
     "output_type": "execute_result"
    }
   ],
   "source": [
    "# After inserting values for beds, baths and rooms\n",
    "d1.head(2)"
   ]
  },
  {
   "cell_type": "code",
   "execution_count": 20,
   "metadata": {},
   "outputs": [],
   "source": [
    "#Assigning these values to the original Dataframe\n",
    "df_rent[((df_rent['Bed']==0)|(df_rent['Bed'].isna()))  & (df_rent['Description'].str.contains('bedroom'))] = d1"
   ]
  },
  {
   "cell_type": "code",
   "execution_count": 21,
   "metadata": {
    "scrolled": false
   },
   "outputs": [],
   "source": [
    "# Assigning bath value to houses with bedroom == 0 or Nan. An intelligent guess.\n",
    "df_rent[((df_rent['Bed']==0)|(df_rent['Bed'].isnull())) & (df_rent['Bath']==1)] = df_rent[((df_rent['Bed']==0)|(df_rent['Bed'].isnull())) & (df_rent['Bath']==1)].assign(Bed = 1, inplace=True)\n",
    "df_rent[((df_rent['Bed']==0)|(df_rent['Bed'].isnull())) & (df_rent['Bath']==2)] = df_rent[((df_rent['Bed']==0)|(df_rent['Bed'].isnull())) & (df_rent['Bath']==2)].assign(Bed = 2, inplace=True)\n",
    "df_rent[((df_rent['Bed']==0)|(df_rent['Bed'].isnull())) & (df_rent['Bath']==3)] = df_rent[((df_rent['Bed']==0)|(df_rent['Bed'].isnull())) & (df_rent['Bath']==3)].assign(Bed = 3, inplace=True)\n",
    "df_rent[(df_rent['Bed'].isnull()) & (df_rent['Property Type'] == 'Self contain')] = df_rent[(df_rent['Bed'].isnull()) & (df_rent['Property Type'] == 'Self contain')].assign(Bed=1, Bath=1, Toilet=1, inplace=True)"
   ]
  },
  {
   "cell_type": "code",
   "execution_count": 22,
   "metadata": {},
   "outputs": [],
   "source": [
    "# Dropping rows with bed, bath and toilet value equal to zero\n",
    "df_rent.drop(df_rent[(df_rent['Bed']==0)].index, inplace = True) "
   ]
  },
  {
   "cell_type": "code",
   "execution_count": 102,
   "metadata": {},
   "outputs": [],
   "source": [
    "# Dropping Self Contain houses with bedrooms greater than 1\n",
    "df_rent.drop(df_rent[(df_rent['Property Type'] == 'Self contain') & (df_rent['Bed'] > 1)].index, inplace=True)"
   ]
  },
  {
   "cell_type": "code",
   "execution_count": 24,
   "metadata": {
    "scrolled": true
   },
   "outputs": [
    {
     "data": {
      "text/plain": [
       "array(['ajah', 'gbagada', 'ikeja', 'ikorodu', 'ikoyi', 'lekki',\n",
       "       'surulere', 'yaba'], dtype=object)"
      ]
     },
     "execution_count": 24,
     "metadata": {},
     "output_type": "execute_result"
    }
   ],
   "source": [
    "df_rent[df_rent['Price'] < 200000]['Area'].unique()"
   ]
  },
  {
   "cell_type": "code",
   "execution_count": null,
   "metadata": {},
   "outputs": [],
   "source": [
    "# EDA on Prices"
   ]
  },
  {
   "cell_type": "code",
   "execution_count": 131,
   "metadata": {},
   "outputs": [],
   "source": [
    "# Price values in this filter are not plausible so its assumed to be false and ought to be dropped.\n",
    "df_rent.drop(df_rent[(df_rent['Price'] <= 400000) & (df_rent['Area'] == 'ikoyi')].index, inplace=True)\n",
    "df_rent.drop(df_rent[(df_rent['Price'] <= 200000) & (df_rent['Area'] == 'lekki')].index, inplace=True) \n",
    "df_rent.drop(df_rent[(df_rent['Price'] <= 500000) & (df_rent['Area'] == 'lekki') & (df_rent['Bed'] > 2)].index, inplace=True)"
   ]
  },
  {
   "cell_type": "code",
   "execution_count": 25,
   "metadata": {},
   "outputs": [],
   "source": [
    "# Dropping properties which are short lets\n",
    "df_rent.drop(df_rent[(df_rent['Description'].str.contains('shortlet')) & (pd.notna(df_rent['Description']))].index, inplace=True)"
   ]
  },
  {
   "cell_type": "code",
   "execution_count": 111,
   "metadata": {
    "scrolled": true
   },
   "outputs": [
    {
     "data": {
      "text/html": [
       "<div>\n",
       "<style scoped>\n",
       "    .dataframe tbody tr th:only-of-type {\n",
       "        vertical-align: middle;\n",
       "    }\n",
       "\n",
       "    .dataframe tbody tr th {\n",
       "        vertical-align: top;\n",
       "    }\n",
       "\n",
       "    .dataframe thead th {\n",
       "        text-align: right;\n",
       "    }\n",
       "</style>\n",
       "<table border=\"1\" class=\"dataframe\">\n",
       "  <thead>\n",
       "    <tr style=\"text-align: right;\">\n",
       "      <th></th>\n",
       "      <th>Percentage_Mising</th>\n",
       "    </tr>\n",
       "  </thead>\n",
       "  <tbody>\n",
       "    <tr>\n",
       "      <th>Property</th>\n",
       "      <td>0.000000</td>\n",
       "    </tr>\n",
       "    <tr>\n",
       "      <th>Location</th>\n",
       "      <td>0.000000</td>\n",
       "    </tr>\n",
       "    <tr>\n",
       "      <th>Description</th>\n",
       "      <td>0.021007</td>\n",
       "    </tr>\n",
       "    <tr>\n",
       "      <th>Features</th>\n",
       "      <td>3.091520</td>\n",
       "    </tr>\n",
       "    <tr>\n",
       "      <th>Price</th>\n",
       "      <td>0.000000</td>\n",
       "    </tr>\n",
       "    <tr>\n",
       "      <th>Bed</th>\n",
       "      <td>0.000000</td>\n",
       "    </tr>\n",
       "    <tr>\n",
       "      <th>Bath</th>\n",
       "      <td>0.000000</td>\n",
       "    </tr>\n",
       "    <tr>\n",
       "      <th>Toilet</th>\n",
       "      <td>0.000000</td>\n",
       "    </tr>\n",
       "    <tr>\n",
       "      <th>Property Type</th>\n",
       "      <td>0.000000</td>\n",
       "    </tr>\n",
       "    <tr>\n",
       "      <th>Area</th>\n",
       "      <td>0.000000</td>\n",
       "    </tr>\n",
       "    <tr>\n",
       "      <th>Purchase Type</th>\n",
       "      <td>0.000000</td>\n",
       "    </tr>\n",
       "    <tr>\n",
       "      <th>Parking Space</th>\n",
       "      <td>0.000000</td>\n",
       "    </tr>\n",
       "    <tr>\n",
       "      <th>Security</th>\n",
       "      <td>0.000000</td>\n",
       "    </tr>\n",
       "    <tr>\n",
       "      <th>Electricity</th>\n",
       "      <td>0.000000</td>\n",
       "    </tr>\n",
       "    <tr>\n",
       "      <th>Furnished</th>\n",
       "      <td>0.000000</td>\n",
       "    </tr>\n",
       "    <tr>\n",
       "      <th>Security Doors</th>\n",
       "      <td>0.000000</td>\n",
       "    </tr>\n",
       "    <tr>\n",
       "      <th>CCTV</th>\n",
       "      <td>0.000000</td>\n",
       "    </tr>\n",
       "    <tr>\n",
       "      <th>BQ</th>\n",
       "      <td>0.000000</td>\n",
       "    </tr>\n",
       "    <tr>\n",
       "      <th>Gym</th>\n",
       "      <td>0.000000</td>\n",
       "    </tr>\n",
       "    <tr>\n",
       "      <th>Pool</th>\n",
       "      <td>0.000000</td>\n",
       "    </tr>\n",
       "  </tbody>\n",
       "</table>\n",
       "</div>"
      ],
      "text/plain": [
       "                Percentage_Mising\n",
       "Property                 0.000000\n",
       "Location                 0.000000\n",
       "Description              0.021007\n",
       "Features                 3.091520\n",
       "Price                    0.000000\n",
       "Bed                      0.000000\n",
       "Bath                     0.000000\n",
       "Toilet                   0.000000\n",
       "Property Type            0.000000\n",
       "Area                     0.000000\n",
       "Purchase Type            0.000000\n",
       "Parking Space            0.000000\n",
       "Security                 0.000000\n",
       "Electricity              0.000000\n",
       "Furnished                0.000000\n",
       "Security Doors           0.000000\n",
       "CCTV                     0.000000\n",
       "BQ                       0.000000\n",
       "Gym                      0.000000\n",
       "Pool                     0.000000"
      ]
     },
     "execution_count": 111,
     "metadata": {},
     "output_type": "execute_result"
    }
   ],
   "source": [
    "pd.DataFrame({'Percentage_Mising':(df_rent.isnull().sum()/df_rent.shape[0])* 100})"
   ]
  },
  {
   "cell_type": "code",
   "execution_count": 27,
   "metadata": {},
   "outputs": [],
   "source": [
    "# The rent Built or Serviced column has more than 50% missing data, so it should be dropped.\n",
    "df_rent.drop('Built or Serviced', 1, inplace=True)"
   ]
  },
  {
   "cell_type": "code",
   "execution_count": 92,
   "metadata": {
    "scrolled": true
   },
   "outputs": [
    {
     "name": "stderr",
     "output_type": "stream",
     "text": [
      "C:\\Users\\HP\\Anaconda3\\lib\\site-packages\\pandas\\core\\frame.py:3062: SettingWithCopyWarning: \n",
      "A value is trying to be set on a copy of a slice from a DataFrame.\n",
      "Try using .loc[row_indexer,col_indexer] = value instead\n",
      "\n",
      "See the caveats in the documentation: https://pandas.pydata.org/pandas-docs/stable/user_guide/indexing.html#returning-a-view-versus-a-copy\n",
      "  self[k1] = value[k2]\n"
     ]
    }
   ],
   "source": [
    "# Filling Bed, Bath and Toilet nan values with 1 for mini flats being mini flats have 1 room.\n",
    "tmp = df_rent[(df_rent['Bed'].isnull()) & (df_rent['Description'].str.contains('mini flat')|df_rent['Description'].str.contains('self contain'))]\n",
    "tmp[['Bed','Bath','Toilet']] = tmp[['Bed','Bath','Toilet']].fillna(1)\n",
    "df_rent[(df_rent['Bed'].isnull()) & (df_rent['Description'].str.contains('mini flat')|df_rent['Description'].str.contains('self contain'))] = tmp"
   ]
  },
  {
   "cell_type": "code",
   "execution_count": 74,
   "metadata": {},
   "outputs": [],
   "source": [
    "# Filling Bed, Bath and Toilet nan values with 2 and 1 based on the condition in mylist2 for flats in Ajah.\n",
    "mylist2 = np.where(tmp['Price'] >500000, 2, 1).tolist()\n",
    "tmp = df_rent[(df_rent['Bed'].isnull()) & (df_rent['Area'] == 'ajah')]\n",
    "tmp['Bed'] = mylist2\n",
    "tmp['Bath'] = mylist2\n",
    "tmp['Toilet'] = mylist2\n",
    "df_rent[(df_rent['Bed'].isnull()) & (df_rent['Area'] == 'ajah')] = tmp\n"
   ]
  },
  {
   "cell_type": "code",
   "execution_count": 79,
   "metadata": {},
   "outputs": [
    {
     "name": "stderr",
     "output_type": "stream",
     "text": [
      "C:\\Users\\HP\\Anaconda3\\lib\\site-packages\\pandas\\core\\frame.py:3062: SettingWithCopyWarning: \n",
      "A value is trying to be set on a copy of a slice from a DataFrame.\n",
      "Try using .loc[row_indexer,col_indexer] = value instead\n",
      "\n",
      "See the caveats in the documentation: https://pandas.pydata.org/pandas-docs/stable/user_guide/indexing.html#returning-a-view-versus-a-copy\n",
      "  self[k1] = value[k2]\n"
     ]
    }
   ],
   "source": [
    "# Filling Bed, Bath and Toilet nan values with 1 based on the assumption housing less than 400000 in price are mostly 1 bedrooms\n",
    "tmp = df_rent[(df_rent['Bed'].isnull()) & (df_rent['Price'] < 400000)]\n",
    "tmp[['Bed','Bath','Toilet']] = tmp[['Bed','Bath','Toilet']].fillna(1)\n",
    "df_rent[(df_rent['Bed'].isnull()) & (df_rent['Price'] < 400000)] = tmp"
   ]
  },
  {
   "cell_type": "code",
   "execution_count": 90,
   "metadata": {},
   "outputs": [
    {
     "name": "stderr",
     "output_type": "stream",
     "text": [
      "C:\\Users\\HP\\Anaconda3\\lib\\site-packages\\pandas\\core\\frame.py:3062: SettingWithCopyWarning: \n",
      "A value is trying to be set on a copy of a slice from a DataFrame.\n",
      "Try using .loc[row_indexer,col_indexer] = value instead\n",
      "\n",
      "See the caveats in the documentation: https://pandas.pydata.org/pandas-docs/stable/user_guide/indexing.html#returning-a-view-versus-a-copy\n",
      "  self[k1] = value[k2]\n"
     ]
    }
   ],
   "source": [
    "# Filling Bed, Bath and Toilet nan values with 1 based on the assumption Mini flats are 1 bedroom apartments fro Property Type Mini flat\n",
    "tmp = df_rent[(df_rent['Bed'].isnull()) & (df_rent['Property Type']=='Mini flat')]\n",
    "tmp[['Bed','Bath','Toilet']] = tmp[['Bed','Bath','Toilet']].fillna(1)\n",
    "df_rent[(df_rent['Bed'].isnull()) & (df_rent['Property Type']=='Mini flat')] = tmp   \n"
   ]
  },
  {
   "cell_type": "code",
   "execution_count": 98,
   "metadata": {},
   "outputs": [],
   "source": [
    "# Filling Bed, Bath and Toilet nan values with 3 on the condition 3 is forund in the description column\n",
    "tmp = df_rent[(df_rent['Bed'].isnull()) & (df_rent['Description'].str.contains('3'))]\n",
    "tmp[['Bed','Bath']] = tmp[['Bed','Bath']].fillna(3)\n",
    "tmp['Toilet'] = tmp['Toilet'].fillna(4)\n",
    "df_rent[(df_rent['Bed'].isnull()) & (df_rent['Description'].str.contains('3'))] = tmp"
   ]
  },
  {
   "cell_type": "code",
   "execution_count": 106,
   "metadata": {
    "scrolled": false
   },
   "outputs": [],
   "source": [
    "# Dropping the rest rows with missing bed, bath and toilet values\n",
    "df_rent.dropna(subset=['Bed', 'Bath', 'Toilet'], inplace=True)"
   ]
  },
  {
   "cell_type": "code",
   "execution_count": 109,
   "metadata": {},
   "outputs": [],
   "source": [
    "cleaned_data = df_rent.drop(['Property','Location','Description','Features',],axis=1)"
   ]
  },
  {
   "cell_type": "code",
   "execution_count": 110,
   "metadata": {
    "scrolled": true
   },
   "outputs": [
    {
     "data": {
      "text/html": [
       "<div>\n",
       "<style scoped>\n",
       "    .dataframe tbody tr th:only-of-type {\n",
       "        vertical-align: middle;\n",
       "    }\n",
       "\n",
       "    .dataframe tbody tr th {\n",
       "        vertical-align: top;\n",
       "    }\n",
       "\n",
       "    .dataframe thead th {\n",
       "        text-align: right;\n",
       "    }\n",
       "</style>\n",
       "<table border=\"1\" class=\"dataframe\">\n",
       "  <thead>\n",
       "    <tr style=\"text-align: right;\">\n",
       "      <th></th>\n",
       "      <th>Price</th>\n",
       "      <th>Bed</th>\n",
       "      <th>Bath</th>\n",
       "      <th>Toilet</th>\n",
       "      <th>Property Type</th>\n",
       "      <th>Area</th>\n",
       "      <th>Purchase Type</th>\n",
       "      <th>Parking Space</th>\n",
       "      <th>Security</th>\n",
       "      <th>Electricity</th>\n",
       "      <th>Furnished</th>\n",
       "      <th>Security Doors</th>\n",
       "      <th>CCTV</th>\n",
       "      <th>BQ</th>\n",
       "      <th>Gym</th>\n",
       "      <th>Pool</th>\n",
       "    </tr>\n",
       "  </thead>\n",
       "  <tbody>\n",
       "    <tr>\n",
       "      <th>0</th>\n",
       "      <td>800000.0</td>\n",
       "      <td>2.0</td>\n",
       "      <td>3.0</td>\n",
       "      <td>3.0</td>\n",
       "      <td>Flat / apartment</td>\n",
       "      <td>ajah</td>\n",
       "      <td>rent</td>\n",
       "      <td>0</td>\n",
       "      <td>0</td>\n",
       "      <td>0</td>\n",
       "      <td>0</td>\n",
       "      <td>0</td>\n",
       "      <td>0</td>\n",
       "      <td>0</td>\n",
       "      <td>0</td>\n",
       "      <td>0</td>\n",
       "    </tr>\n",
       "    <tr>\n",
       "      <th>1</th>\n",
       "      <td>700000.0</td>\n",
       "      <td>1.0</td>\n",
       "      <td>2.0</td>\n",
       "      <td>2.0</td>\n",
       "      <td>Mini flat</td>\n",
       "      <td>ajah</td>\n",
       "      <td>rent</td>\n",
       "      <td>0</td>\n",
       "      <td>0</td>\n",
       "      <td>0</td>\n",
       "      <td>0</td>\n",
       "      <td>0</td>\n",
       "      <td>0</td>\n",
       "      <td>0</td>\n",
       "      <td>0</td>\n",
       "      <td>0</td>\n",
       "    </tr>\n",
       "    <tr>\n",
       "      <th>2</th>\n",
       "      <td>900000.0</td>\n",
       "      <td>1.0</td>\n",
       "      <td>1.0</td>\n",
       "      <td>2.0</td>\n",
       "      <td>Mini flat</td>\n",
       "      <td>ajah</td>\n",
       "      <td>rent</td>\n",
       "      <td>0</td>\n",
       "      <td>0</td>\n",
       "      <td>0</td>\n",
       "      <td>0</td>\n",
       "      <td>0</td>\n",
       "      <td>0</td>\n",
       "      <td>0</td>\n",
       "      <td>0</td>\n",
       "      <td>0</td>\n",
       "    </tr>\n",
       "    <tr>\n",
       "      <th>3</th>\n",
       "      <td>1100000.0</td>\n",
       "      <td>3.0</td>\n",
       "      <td>3.0</td>\n",
       "      <td>4.0</td>\n",
       "      <td>Flat / apartment</td>\n",
       "      <td>ajah</td>\n",
       "      <td>rent</td>\n",
       "      <td>0</td>\n",
       "      <td>0</td>\n",
       "      <td>0</td>\n",
       "      <td>0</td>\n",
       "      <td>0</td>\n",
       "      <td>0</td>\n",
       "      <td>0</td>\n",
       "      <td>0</td>\n",
       "      <td>0</td>\n",
       "    </tr>\n",
       "    <tr>\n",
       "      <th>4</th>\n",
       "      <td>1800000.0</td>\n",
       "      <td>4.0</td>\n",
       "      <td>4.0</td>\n",
       "      <td>4.0</td>\n",
       "      <td>Detached bungalow</td>\n",
       "      <td>ajah</td>\n",
       "      <td>rent</td>\n",
       "      <td>1</td>\n",
       "      <td>0</td>\n",
       "      <td>0</td>\n",
       "      <td>1</td>\n",
       "      <td>0</td>\n",
       "      <td>0</td>\n",
       "      <td>1</td>\n",
       "      <td>0</td>\n",
       "      <td>0</td>\n",
       "    </tr>\n",
       "  </tbody>\n",
       "</table>\n",
       "</div>"
      ],
      "text/plain": [
       "       Price  Bed  Bath  Toilet      Property Type  Area Purchase Type  \\\n",
       "0   800000.0  2.0   3.0     3.0   Flat / apartment  ajah          rent   \n",
       "1   700000.0  1.0   2.0     2.0          Mini flat  ajah          rent   \n",
       "2   900000.0  1.0   1.0     2.0          Mini flat  ajah          rent   \n",
       "3  1100000.0  3.0   3.0     4.0   Flat / apartment  ajah          rent   \n",
       "4  1800000.0  4.0   4.0     4.0  Detached bungalow  ajah          rent   \n",
       "\n",
       "   Parking Space  Security  Electricity  Furnished  Security Doors  CCTV  BQ  \\\n",
       "0              0         0            0          0               0     0   0   \n",
       "1              0         0            0          0               0     0   0   \n",
       "2              0         0            0          0               0     0   0   \n",
       "3              0         0            0          0               0     0   0   \n",
       "4              1         0            0          1               0     0   1   \n",
       "\n",
       "   Gym  Pool  \n",
       "0    0     0  \n",
       "1    0     0  \n",
       "2    0     0  \n",
       "3    0     0  \n",
       "4    0     0  "
      ]
     },
     "execution_count": 110,
     "metadata": {},
     "output_type": "execute_result"
    }
   ],
   "source": [
    "cleaned_data.head()"
   ]
  },
  {
   "cell_type": "code",
   "execution_count": 130,
   "metadata": {},
   "outputs": [],
   "source": [
    "# Saving cleaned data to local disk\n",
    "cleaned_data.to_csv(path+'/cleaned_rent.csv',index=False)"
   ]
  }
 ],
 "metadata": {
  "kernelspec": {
   "display_name": "Python 3",
   "language": "python",
   "name": "python3"
  },
  "language_info": {
   "codemirror_mode": {
    "name": "ipython",
    "version": 3
   },
   "file_extension": ".py",
   "mimetype": "text/x-python",
   "name": "python",
   "nbconvert_exporter": "python",
   "pygments_lexer": "ipython3",
   "version": "3.7.4"
  }
 },
 "nbformat": 4,
 "nbformat_minor": 2
}
